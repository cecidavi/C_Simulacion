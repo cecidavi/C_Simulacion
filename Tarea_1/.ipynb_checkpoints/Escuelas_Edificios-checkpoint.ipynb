{
 "cells": [
  {
   "cell_type": "code",
   "execution_count": 22,
   "metadata": {},
   "outputs": [],
   "source": [
    "from sqlalchemy import create_engine\n",
    "import pandas as pd\n",
    "from math import radians, sin, cos, sqrt, atan2"
   ]
  },
  {
   "cell_type": "code",
   "execution_count": 23,
   "metadata": {},
   "outputs": [
    {
     "ename": "ModuleNotFoundError",
     "evalue": "No module named 'mysql'",
     "output_type": "error",
     "traceback": [
      "\u001b[0;31m---------------------------------------------------------------------------\u001b[0m",
      "\u001b[0;31mModuleNotFoundError\u001b[0m                       Traceback (most recent call last)",
      "Cell \u001b[0;32mIn[23], line 10\u001b[0m\n\u001b[1;32m      8\u001b[0m \u001b[38;5;66;03m# Crear el motor de conexión\u001b[39;00m\n\u001b[1;32m      9\u001b[0m connection_string \u001b[38;5;241m=\u001b[39m \u001b[38;5;124mf\u001b[39m\u001b[38;5;124m'\u001b[39m\u001b[38;5;124mmysql+mysqlconnector://\u001b[39m\u001b[38;5;132;01m{\u001b[39;00muser\u001b[38;5;132;01m}\u001b[39;00m\u001b[38;5;124m:\u001b[39m\u001b[38;5;132;01m{\u001b[39;00mpassword\u001b[38;5;132;01m}\u001b[39;00m\u001b[38;5;124m@\u001b[39m\u001b[38;5;132;01m{\u001b[39;00mhost\u001b[38;5;132;01m}\u001b[39;00m\u001b[38;5;124m:\u001b[39m\u001b[38;5;132;01m{\u001b[39;00mport\u001b[38;5;132;01m}\u001b[39;00m\u001b[38;5;124m/\u001b[39m\u001b[38;5;132;01m{\u001b[39;00mdatabase\u001b[38;5;132;01m}\u001b[39;00m\u001b[38;5;124m'\u001b[39m\n\u001b[0;32m---> 10\u001b[0m engine \u001b[38;5;241m=\u001b[39m \u001b[43mcreate_engine\u001b[49m\u001b[43m(\u001b[49m\u001b[43mconnection_string\u001b[49m\u001b[43m)\u001b[49m\n\u001b[1;32m     12\u001b[0m \u001b[38;5;66;03m# Leer datos desde la base de datos\u001b[39;00m\n\u001b[1;32m     13\u001b[0m query_edificios \u001b[38;5;241m=\u001b[39m \u001b[38;5;124m'\u001b[39m\u001b[38;5;124mSELECT * FROM edificios_escolares\u001b[39m\u001b[38;5;124m'\u001b[39m\n",
      "File \u001b[0;32m<string>:2\u001b[0m, in \u001b[0;36mcreate_engine\u001b[0;34m(url, **kwargs)\u001b[0m\n",
      "File \u001b[0;32m/usr/lib/python3/dist-packages/sqlalchemy/util/deprecations.py:375\u001b[0m, in \u001b[0;36mdeprecated_params.<locals>.decorate.<locals>.warned\u001b[0;34m(fn, *args, **kwargs)\u001b[0m\n\u001b[1;32m    368\u001b[0m     \u001b[38;5;28;01mif\u001b[39;00m m \u001b[38;5;129;01min\u001b[39;00m kwargs:\n\u001b[1;32m    369\u001b[0m         _warn_with_version(\n\u001b[1;32m    370\u001b[0m             messages[m],\n\u001b[1;32m    371\u001b[0m             versions[m],\n\u001b[1;32m    372\u001b[0m             version_warnings[m],\n\u001b[1;32m    373\u001b[0m             stacklevel\u001b[38;5;241m=\u001b[39m\u001b[38;5;241m3\u001b[39m,\n\u001b[1;32m    374\u001b[0m         )\n\u001b[0;32m--> 375\u001b[0m \u001b[38;5;28;01mreturn\u001b[39;00m \u001b[43mfn\u001b[49m\u001b[43m(\u001b[49m\u001b[38;5;241;43m*\u001b[39;49m\u001b[43margs\u001b[49m\u001b[43m,\u001b[49m\u001b[43m \u001b[49m\u001b[38;5;241;43m*\u001b[39;49m\u001b[38;5;241;43m*\u001b[39;49m\u001b[43mkwargs\u001b[49m\u001b[43m)\u001b[49m\n",
      "File \u001b[0;32m/usr/lib/python3/dist-packages/sqlalchemy/engine/create.py:544\u001b[0m, in \u001b[0;36mcreate_engine\u001b[0;34m(url, **kwargs)\u001b[0m\n\u001b[1;32m    542\u001b[0m         \u001b[38;5;28;01mif\u001b[39;00m k \u001b[38;5;129;01min\u001b[39;00m kwargs:\n\u001b[1;32m    543\u001b[0m             dbapi_args[k] \u001b[38;5;241m=\u001b[39m pop_kwarg(k)\n\u001b[0;32m--> 544\u001b[0m     dbapi \u001b[38;5;241m=\u001b[39m \u001b[43mdialect_cls\u001b[49m\u001b[38;5;241;43m.\u001b[39;49m\u001b[43mdbapi\u001b[49m\u001b[43m(\u001b[49m\u001b[38;5;241;43m*\u001b[39;49m\u001b[38;5;241;43m*\u001b[39;49m\u001b[43mdbapi_args\u001b[49m\u001b[43m)\u001b[49m\n\u001b[1;32m    546\u001b[0m dialect_args[\u001b[38;5;124m\"\u001b[39m\u001b[38;5;124mdbapi\u001b[39m\u001b[38;5;124m\"\u001b[39m] \u001b[38;5;241m=\u001b[39m dbapi\n\u001b[1;32m    548\u001b[0m dialect_args\u001b[38;5;241m.\u001b[39msetdefault(\u001b[38;5;124m\"\u001b[39m\u001b[38;5;124mcompiler_linting\u001b[39m\u001b[38;5;124m\"\u001b[39m, compiler\u001b[38;5;241m.\u001b[39mNO_LINTING)\n",
      "File \u001b[0;32m/usr/lib/python3/dist-packages/sqlalchemy/dialects/mysql/mysqlconnector.py:129\u001b[0m, in \u001b[0;36mMySQLDialect_mysqlconnector.dbapi\u001b[0;34m(cls)\u001b[0m\n\u001b[1;32m    127\u001b[0m \u001b[38;5;129m@classmethod\u001b[39m\n\u001b[1;32m    128\u001b[0m \u001b[38;5;28;01mdef\u001b[39;00m \u001b[38;5;21mdbapi\u001b[39m(\u001b[38;5;28mcls\u001b[39m):\n\u001b[0;32m--> 129\u001b[0m     \u001b[38;5;28;01mfrom\u001b[39;00m \u001b[38;5;21;01mmysql\u001b[39;00m \u001b[38;5;28;01mimport\u001b[39;00m connector\n\u001b[1;32m    131\u001b[0m     \u001b[38;5;28;01mreturn\u001b[39;00m connector\n",
      "\u001b[0;31mModuleNotFoundError\u001b[0m: No module named 'mysql'"
     ]
    }
   ],
   "source": [
    "# Parámetros de conexión\n",
    "user = 'root'\n",
    "password = ''  # Deja la contraseña vacía si no tienes\n",
    "host = 'localhost'\n",
    "port = '3306'\n",
    "database = 'eyc_tarea1'\n",
    "\n",
    "# Crear el motor de conexión\n",
    "connection_string = f'mysql+mysqlconnector://{user}:{password}@{host}:{port}/{database}'\n",
    "engine = create_engine(connection_string)\n",
    "\n",
    "# Leer datos desde la base de datos\n",
    "query_edificios = 'SELECT * FROM edificios_escolares'\n",
    "query_colonias = 'SELECT * FROM cat_colonias'\n",
    "\n",
    "# Cargar datos en DataFrames\n",
    "edificios_escolares_df = pd.read_sql(query_edificios, engine)\n",
    "cat_colonias_df = pd.read_sql(query_colonias, engine)\n",
    "\n",
    "# Limpiar datos: Reemplazar valores vacíos o no numéricos con NaN\n",
    "edificios_escolares_df['latitud'] = pd.to_numeric(edificios_escolares_df['latitud'], errors='coerce')\n",
    "edificios_escolares_df['longitud'] = pd.to_numeric(edificios_escolares_df['longitud'], errors='coerce')\n",
    "\n",
    "cat_colonias_df['lat'] = pd.to_numeric(cat_colonias_df['lat'], errors='coerce')\n",
    "cat_colonias_df['lon'] = pd.to_numeric(cat_colonias_df['lon'], errors='coerce')\n",
    "\n",
    "# Eliminar filas con valores NaN en las columnas relevantes\n",
    "edificios_escolares_df = edificios_escolares_df.dropna(subset=['latitud', 'longitud'])\n",
    "cat_colonias_df = cat_colonias_df.dropna(subset=['lat', 'lon'])\n",
    "\n",
    "# Verificar los tipos de datos\n",
    "print(edificios_escolares_df.dtypes)\n",
    "print(cat_colonias_df.dtypes)"
   ]
  },
  {
   "cell_type": "code",
   "execution_count": null,
   "metadata": {},
   "outputs": [
    {
     "ename": "NameError",
     "evalue": "name 'edificios_escolares_df' is not defined",
     "output_type": "error",
     "traceback": [
      "\u001b[0;31m---------------------------------------------------------------------------\u001b[0m",
      "\u001b[0;31mNameError\u001b[0m                                 Traceback (most recent call last)",
      "Cell \u001b[0;32mIn[21], line 23\u001b[0m\n\u001b[1;32m     20\u001b[0m     \u001b[38;5;28;01mreturn\u001b[39;00m distance\n\u001b[1;32m     22\u001b[0m \u001b[38;5;66;03m# Unir los dos dataframes en base al código postal\u001b[39;00m\n\u001b[0;32m---> 23\u001b[0m merged_df \u001b[38;5;241m=\u001b[39m pd\u001b[38;5;241m.\u001b[39mmerge(\u001b[43medificios_escolares_df\u001b[49m, cat_colonias_df, left_on\u001b[38;5;241m=\u001b[39m\u001b[38;5;124m'\u001b[39m\u001b[38;5;124mcodigo_postal\u001b[39m\u001b[38;5;124m'\u001b[39m, right_on\u001b[38;5;241m=\u001b[39m\u001b[38;5;124m'\u001b[39m\u001b[38;5;124mcve_codpost\u001b[39m\u001b[38;5;124m'\u001b[39m)\n\u001b[1;32m     25\u001b[0m \u001b[38;5;66;03m# Calcular la distancia entre cada edificio escolar y el centro de su código postal\u001b[39;00m\n\u001b[1;32m     26\u001b[0m merged_df[\u001b[38;5;124m'\u001b[39m\u001b[38;5;124mdistancia_km\u001b[39m\u001b[38;5;124m'\u001b[39m] \u001b[38;5;241m=\u001b[39m merged_df\u001b[38;5;241m.\u001b[39mapply(\u001b[38;5;28;01mlambda\u001b[39;00m row: haversine(row[\u001b[38;5;124m'\u001b[39m\u001b[38;5;124mlatitud\u001b[39m\u001b[38;5;124m'\u001b[39m], row[\u001b[38;5;124m'\u001b[39m\u001b[38;5;124mlongitud\u001b[39m\u001b[38;5;124m'\u001b[39m], row[\u001b[38;5;124m'\u001b[39m\u001b[38;5;124mlat\u001b[39m\u001b[38;5;124m'\u001b[39m], row[\u001b[38;5;124m'\u001b[39m\u001b[38;5;124mlon\u001b[39m\u001b[38;5;124m'\u001b[39m]), axis\u001b[38;5;241m=\u001b[39m\u001b[38;5;241m1\u001b[39m)\n",
      "\u001b[0;31mNameError\u001b[0m: name 'edificios_escolares_df' is not defined"
     ]
    }
   ],
   "source": [
    "# Función para calcular la distancia entre dos coordenadas usando la fórmula de Haversine\n",
    "def haversine(lat1, lon1, lat2, lon2):\n",
    "    R = 6371.0  # Radio de la Tierra en kilómetros\n",
    "\n",
    "    # Convertir coordenadas de grados a radianes\n",
    "    lat1_rad = radians(lat1)\n",
    "    lon1_rad = radians(lon1)\n",
    "    lat2_rad = radians(lat2)\n",
    "    lon2_rad = radians(lon2)\n",
    "\n",
    "    # Diferencias de coordenadas\n",
    "    dlat = lat2_rad - lat1_rad\n",
    "    dlon = lon2_rad - lon1_rad\n",
    "\n",
    "    # Aplicar fórmula de Haversine\n",
    "    a = sin(dlat / 2)**2 + cos(lat1_rad) * cos(lat2_rad) * sin(dlon / 2)**2\n",
    "    c = 2 * atan2(sqrt(a), sqrt(1 - a))\n",
    "    distance = R * c\n",
    "\n",
    "    return distance\n",
    "\n",
    "# Unir los dos dataframes en base al código postal\n",
    "merged_df = pd.merge(edificios_escolares_df, cat_colonias_df, left_on='codigo_postal', right_on='cve_codpost')\n",
    "\n",
    "# Calcular la distancia entre cada edificio escolar y el centro de su código postal\n",
    "merged_df['distancia_km'] = merged_df.apply(lambda row: haversine(row['latitud'], row['longitud'], row['lat'], row['lon']), axis=1)\n",
    "\n",
    "# Filtrar los edificios escolares que están a 10 km o más de distancia\n",
    "result_df = merged_df[merged_df['distancia_km'] >= 10000]\n",
    "\n",
    "# Mostrar los resultados\n",
    "result_df_filtered = result_df[['cct', 'nombre', 'codigo_postal', 'distancia_km']]\n",
    "#result_df_filtered\n",
    "\n",
    "pd.set_option('display.max_columns', None)\n",
    "pd.set_option(\"display.max_rows\", None)\n",
    "\n",
    "result_df_filtered.head()\n",
    "result_df_filtered.share()"
   ]
  }
 ],
 "metadata": {
  "kernelspec": {
   "display_name": "Python 3",
   "language": "python",
   "name": "python3"
  },
  "language_info": {
   "codemirror_mode": {
    "name": "ipython",
    "version": 3
   },
   "file_extension": ".py",
   "mimetype": "text/x-python",
   "name": "python",
   "nbconvert_exporter": "python",
   "pygments_lexer": "ipython3",
   "version": "3.11.9"
  }
 },
 "nbformat": 4,
 "nbformat_minor": 2
}
