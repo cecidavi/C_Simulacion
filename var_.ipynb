{
 "cells": [
  {
   "cell_type": "code",
   "execution_count": 17,
   "metadata": {},
   "outputs": [],
   "source": [
    "import yfinance as yf\n",
    "import pandas as pd\n",
    "import numpy as np\n",
    "import matplotlib.pyplot as plt\n",
    "import seaborn as sns"
   ]
  },
  {
   "cell_type": "code",
   "execution_count": 18,
   "metadata": {},
   "outputs": [
    {
     "data": {
      "text/plain": [
       "'2023-09-19'"
      ]
     },
     "execution_count": 18,
     "metadata": {},
     "output_type": "execute_result"
    }
   ],
   "source": [
    "today = pd.Timestamp.today()\n",
    "star=today-pd.Timedelta(days=365)\n",
    "star_date=star.strftime('%Y-%m-%d')\n",
    "star_date"
   ]
  },
  {
   "cell_type": "code",
   "execution_count": 19,
   "metadata": {},
   "outputs": [
    {
     "name": "stderr",
     "output_type": "stream",
     "text": [
      "[*********************100%***********************]  1 of 1 completed\n"
     ]
    }
   ],
   "source": [
    "symbol = 'SPY'\n",
    "df_stock=yf.download(symbol,start=star_date,end=today.strftime('%Y-%m-%d'))[['Adj Close']].copy()"
   ]
  },
  {
   "cell_type": "code",
   "execution_count": null,
   "metadata": {},
   "outputs": [],
   "source": [
    "#pd.set_option('display.max_rows', None)\n",
    "#pd.set_option('display.max_columns', None)\n",
    "df_stock"
   ]
  },
  {
   "cell_type": "code",
   "execution_count": null,
   "metadata": {},
   "outputs": [],
   "source": [
    "df_stock['return']=np.log(df_stock['Adj Close']/df_stock['Adj Close'].shift(1))\n",
    "df_stock"
   ]
  },
  {
   "cell_type": "code",
   "execution_count": 24,
   "metadata": {},
   "outputs": [],
   "source": [
    "df_stock.dropna(inplace=True)"
   ]
  },
  {
   "cell_type": "code",
   "execution_count": null,
   "metadata": {},
   "outputs": [],
   "source": [
    "df_stock"
   ]
  },
  {
   "cell_type": "code",
   "execution_count": 28,
   "metadata": {},
   "outputs": [
    {
     "data": {
      "text/plain": [
       "(np.float64(0.0010034336200739529), np.float64(0.007966403996273588))"
      ]
     },
     "execution_count": 28,
     "metadata": {},
     "output_type": "execute_result"
    }
   ],
   "source": [
    "#means\n",
    "means_return=df_stock['return'].mean()\n",
    "std_return=df_stock['return'].std()\n",
    "means_return,std_return "
   ]
  },
  {
   "cell_type": "code",
   "execution_count": 30,
   "metadata": {},
   "outputs": [],
   "source": [
    "def montecarlo_simulation(df_prices,n_simulations=1000,n_days=30,mu=0,sigma=1):\n",
    "    simulated_prices=np.zeros((n_simulations,n_days))\n",
    "    initial_price=df_prices.iloc[-1]\n",
    "    simulated_prices[:,0]=initial_price\n",
    "\n",
    "    for i in range(1,n_days):\n",
    "        simulated_prices[:,i]=simulated_prices[:,i-1]*(1+np.random.normal(mu,sigma,n_simulations))\n",
    "    return simulated_prices\n",
    "\n"
   ]
  },
  {
   "cell_type": "code",
   "execution_count": 31,
   "metadata": {},
   "outputs": [],
   "source": [
    "simulated_prices=montecarlo_simulation(df_stock['Adj Close'],n_simulations=1000,n_days=30,mu=means_return,sigma=std_return)"
   ]
  },
  {
   "cell_type": "code",
   "execution_count": 36,
   "metadata": {},
   "outputs": [
    {
     "data": {
      "text/plain": [
       "array([[563.07000732, 567.84038255, 572.96456648, ..., 589.92479236,\n",
       "        595.21409423, 592.96727172],\n",
       "       [563.07000732, 564.57025353, 558.73525398, ..., 594.78467302,\n",
       "        600.47867893, 608.32360105],\n",
       "       [563.07000732, 562.23362429, 568.72958617, ..., 615.31916142,\n",
       "        608.00338025, 602.6966089 ],\n",
       "       ...,\n",
       "       [563.07000732, 567.92346783, 561.22661135, ..., 555.89007931,\n",
       "        555.78869637, 557.70780753],\n",
       "       [563.07000732, 568.47376818, 562.33946508, ..., 555.01562192,\n",
       "        553.22284641, 553.48868496],\n",
       "       [563.07000732, 568.48162831, 571.76994264, ..., 598.88947731,\n",
       "        614.0817918 , 612.76939691]])"
      ]
     },
     "execution_count": 36,
     "metadata": {},
     "output_type": "execute_result"
    }
   ],
   "source": [
    "simulated_prices"
   ]
  },
  {
   "cell_type": "code",
   "execution_count": 38,
   "metadata": {},
   "outputs": [],
   "source": [
    "simulated_prices_flat=simulated_prices[:,1:].flatten()"
   ]
  },
  {
   "cell_type": "code",
   "execution_count": 44,
   "metadata": {},
   "outputs": [
    {
     "data": {
      "text/plain": [
       "array([567.84038255, 572.96456648, 579.09690543, ..., 598.88947731,\n",
       "       614.0817918 , 612.76939691])"
      ]
     },
     "execution_count": 44,
     "metadata": {},
     "output_type": "execute_result"
    }
   ],
   "source": [
    "simulated_prices_flat\n",
    "\n"
   ]
  },
  {
   "cell_type": "code",
   "execution_count": 45,
   "metadata": {},
   "outputs": [
    {
     "data": {
      "text/plain": [
       "29000"
      ]
     },
     "execution_count": 45,
     "metadata": {},
     "output_type": "execute_result"
    }
   ],
   "source": [
    "len(simulated_prices_flat)"
   ]
  },
  {
   "cell_type": "code",
   "execution_count": 47,
   "metadata": {},
   "outputs": [],
   "source": [
    "porcentil_5=np.percentile(simulated_prices_flat,5)\n",
    "porcentil_95=np.percentile(simulated_prices_flat,95)"
   ]
  },
  {
   "cell_type": "code",
   "execution_count": 49,
   "metadata": {},
   "outputs": [
    {
     "data": {
      "text/plain": [
       "(np.float64(545.6639159276978), np.float64(605.0198883792884))"
      ]
     },
     "execution_count": 49,
     "metadata": {},
     "output_type": "execute_result"
    }
   ],
   "source": [
    "porcentil_5,porcentil_95"
   ]
  },
  {
   "cell_type": "code",
   "execution_count": 51,
   "metadata": {},
   "outputs": [
    {
     "data": {
      "text/plain": [
       "<Axes: ylabel='Count'>"
      ]
     },
     "execution_count": 51,
     "metadata": {},
     "output_type": "execute_result"
    },
    {
     "data": {
      "image/png": "[encoded data removed]",
      "text/plain": [
       "<Figure size 640x480 with 1 Axes>"
      ]
     },
     "metadata": {},
     "output_type": "display_data"
    }
   ],
   "source": [
    "sns.histplot(simulated_prices_flat, bins=50, kde=True, color='blue', edgecolor='red')\n"
   ]
  }
 ],
 "metadata": {
  "kernelspec": {
   "display_name": "Python 3",
   "language": "python",
   "name": "python3"
  },
  "language_info": {
   "codemirror_mode": {
    "name": "ipython",
    "version": 3
   },
   "file_extension": ".py",
   "mimetype": "text/x-python",
   "name": "python",
   "nbconvert_exporter": "python",
   "pygments_lexer": "ipython3",
   "version": "3.11.9"
  }
 },
 "nbformat": 4,
 "nbformat_minor": 2
}
