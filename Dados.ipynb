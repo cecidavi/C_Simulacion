{
 "cells": [
  {
   "cell_type": "code",
   "execution_count": 1,
   "metadata": {},
   "outputs": [],
   "source": [
    "import random\n",
    "import matplotlib.pyplot as plt\n",
    "import numpy as np\n"
   ]
  },
  {
   "cell_type": "code",
   "execution_count": 2,
   "metadata": {},
   "outputs": [
    {
     "name": "stdout",
     "output_type": "stream",
     "text": [
      "[87  2  2  0  1  3  5]\n",
      "[-200  100  400  900 1600 2500 3600]\n"
     ]
    }
   ],
   "source": [
    "iteraciones=100\n",
    "\n",
    "par1=0\n",
    "par2=0\n",
    "par3=0\n",
    "par4=0\n",
    "par5=0\n",
    "par6=0\n",
    "impar=0\n",
    "Gana_par1 = (1*1)*100\n",
    "Gana_par2 = (2*2)*100\n",
    "Gana_par3 = (3*3)*100\n",
    "Gana_par4 = (4*4)*100\n",
    "Gana_par5 = (5*5)*100\n",
    "Gana_par6 = (6*6)*100\n",
    "gana_impar = -200\n",
    "\n",
    "for i in range(iteraciones):\n",
    "    dado1=random.randint(1,6)\n",
    "    dado2=random.randint(1,6)\n",
    "   # print(\"Dado 1 y 2: \",dado1,dado2)    \n",
    "    if (dado1==dado2 and dado2==1):\n",
    "        par1+=1\n",
    "    elif(dado1==dado2 and dado2==2):\n",
    "        par2+=1\n",
    "    elif(dado1==dado2 and dado2==3):\n",
    "        par3+=1\n",
    "    elif(dado1==dado2 and dado2==4):\n",
    "        par4+=1\n",
    "    elif(dado1==dado2 and dado2==5):\n",
    "        par5+=1\n",
    "    elif(dado1==dado2 and dado2==6):\n",
    "        par6+=1\n",
    "    else:\n",
    "        impar+=1\n",
    "\n",
    "resultado=np.array([impar,par1,par2,par3,par4,par5,par6])\n",
    "ganancias=np.array([gana_impar,Gana_par1,Gana_par2,Gana_par3,Gana_par4,Gana_par5,Gana_par6])\n",
    "print(resultado)\n",
    "print(ganancias)"
   ]
  },
  {
   "cell_type": "code",
   "execution_count": 3,
   "metadata": {},
   "outputs": [
    {
     "data": {
      "image/png": "[encoded data removed]",
      "text/plain": [
       "<Figure size 640x480 with 1 Axes>"
      ]
     },
     "metadata": {},
     "output_type": "display_data"
    }
   ],
   "source": [
    "plt.title(\"Simulacion de juego de dados\")\n",
    "plt.ylabel(\"Tiros\")\n",
    "plt.bar(np.arange(len(ganancias)),resultado,color='b',label='Resultado')\n",
    "cnt=0\n",
    "for i in resultado:\n",
    "    plt.text(cnt, i, str(i), va='bottom', ha='center')\n",
    "    cnt+=1\n",
    "\n",
    "    \n",
    "plt.show()"
   ]
  },
  {
   "cell_type": "code",
   "execution_count": 4,
   "metadata": {},
   "outputs": [
    {
     "name": "stdout",
     "output_type": "stream",
     "text": [
      "-17400\n",
      "200\n",
      "800\n",
      "0\n",
      "1600\n",
      "7500\n",
      "18000\n",
      "Lo que Gano:  28100\n",
      "Lo que pierdo:  -17400\n"
     ]
    }
   ],
   "source": [
    "loqueganamos = 0\n",
    "\n",
    "for i in range(0, 7):\n",
    "    print(resultado[i]* ganancias[i])\n",
    "    if i == 0:\n",
    "        perdidas = resultado[i] * ganancias[i]\n",
    "    else:\n",
    "        loqueganamos += resultado[i] * ganancias[i]\n",
    "\n",
    "print(\"Lo que Gano: \", loqueganamos)\n",
    "print(\"Lo que pierdo: \", perdidas)\n",
    "\n"
   ]
  }
 ],
 "metadata": {
  "kernelspec": {
   "display_name": "Python 3",
   "language": "python",
   "name": "python3"
  },
  "language_info": {
   "codemirror_mode": {
    "name": "ipython",
    "version": 3
   },
   "file_extension": ".py",
   "mimetype": "text/x-python",
   "name": "python",
   "nbconvert_exporter": "python",
   "pygments_lexer": "ipython3",
   "version": "3.12.3"
  }
 },
 "nbformat": 4,
 "nbformat_minor": 2
}
