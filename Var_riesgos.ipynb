{
 "cells": [
  {
   "cell_type": "code",
   "execution_count": 404,
   "metadata": {},
   "outputs": [],
   "source": [
    "#importation des bibliotecas\n",
    "import numpy as np\n",
    "import matplotlib.pyplot as plt\n",
    "import pandas as pd\n",
    "import datetime as dt\n",
    "import yfinance as yf\n",
    "from scipy.stats import norm"
   ]
  },
  {
   "cell_type": "code",
   "execution_count": 405,
   "metadata": {},
   "outputs": [
    {
     "name": "stdout",
     "output_type": "stream",
     "text": [
      "2024-09-11 20:53:54.029747\n",
      "2009-09-15 20:53:54.029747\n"
     ]
    }
   ],
   "source": [
    "#ajustar tiempo\n",
    "year= 15\n",
    "endDate= dt.datetime.now()\n",
    "print(endDate)\n",
    "starDate= endDate - dt.timedelta(days=year*365)\n",
    "print(starDate)\n",
    "\n"
   ]
  },
  {
   "cell_type": "code",
   "execution_count": 406,
   "metadata": {},
   "outputs": [],
   "source": [
    "#crear los Tickers\n",
    "tickers= ['SPY','BND','GDL','QQQ','VTI']\n",
    "\n"
   ]
  },
  {
   "cell_type": "code",
   "execution_count": 407,
   "metadata": {},
   "outputs": [
    {
     "name": "stderr",
     "output_type": "stream",
     "text": [
      "[*********************100%***********************]  1 of 1 completed\n",
      "[*********************100%***********************]  1 of 1 completed\n",
      "[*********************100%***********************]  1 of 1 completed\n",
      "[*********************100%***********************]  1 of 1 completed\n",
      "[*********************100%***********************]  1 of 1 completed"
     ]
    },
    {
     "name": "stdout",
     "output_type": "stream",
     "text": [
      "                   SPY        BND       GDL         QQQ         VTI\n",
      "Date                                                               \n",
      "2009-09-16   81.163651  51.415565  5.131358   37.066452   41.379059\n",
      "2009-09-17   81.042633  51.565292  5.184113   37.057709   41.303101\n",
      "2009-09-18   81.094322  51.506668  5.187632   37.119827   41.363884\n",
      "2009-09-21   80.889145  51.467628  5.226317   37.233517   41.249905\n",
      "2009-09-22   81.360268  51.402481  5.173563   37.303486   41.493046\n",
      "...                ...        ...       ...         ...         ...\n",
      "2024-09-05  549.609985  74.959999  8.070000  461.040009  270.940002\n",
      "2024-09-06  540.359985  75.050003  8.080000  448.690002  266.440002\n",
      "2024-09-09  546.409973  75.150002  8.080000  454.459991  269.290009\n",
      "2024-09-10  548.789978  75.400002  8.070000  458.660004  270.339996\n",
      "2024-09-11  554.419983  75.360001  8.070000  468.619995  273.029999\n",
      "\n",
      "[3772 rows x 5 columns]\n"
     ]
    },
    {
     "name": "stderr",
     "output_type": "stream",
     "text": [
      "\n"
     ]
    }
   ],
   "source": [
    "\n",
    "#descargar los precios ajustados\n",
    "adj_close_df=pd.DataFrame()\n",
    "\n",
    "for ticker in tickers:\n",
    "    data=yf.download(ticker, start=starDate, end=endDate)\n",
    "    adj_close_df[ticker] = data['Adj Close']\n",
    "\n",
    "print(adj_close_df)"
   ]
  },
  {
   "cell_type": "code",
   "execution_count": 408,
   "metadata": {},
   "outputs": [
    {
     "name": "stdout",
     "output_type": "stream",
     "text": [
      "                 SPY       BND       GDL       QQQ       VTI\n",
      "Date                                                        \n",
      "2009-09-17 -0.001492  0.002908  0.010228 -0.000236 -0.001837\n",
      "2009-09-18  0.000638 -0.001138  0.000678  0.001675  0.001471\n",
      "2009-09-21 -0.002533 -0.000758  0.007430  0.003058 -0.002759\n",
      "2009-09-22  0.005807 -0.001267 -0.010145  0.001877  0.005877\n",
      "2009-09-23 -0.008347  0.002910  0.008124 -0.004700 -0.010308\n",
      "...              ...       ...       ...       ...       ...\n",
      "2024-09-05 -0.002435  0.002404 -0.001238  0.000933 -0.003096\n",
      "2024-09-06 -0.016973  0.001200  0.001238 -0.027153 -0.016748\n",
      "2024-09-09  0.011134  0.001332  0.000000  0.012778  0.010640\n",
      "2024-09-10  0.004346  0.003321 -0.001238  0.009199  0.003892\n",
      "2024-09-11  0.010207 -0.000531  0.000000  0.021483  0.009901\n",
      "\n",
      "[3771 rows x 5 columns]\n"
     ]
    }
   ],
   "source": [
    "#calcular los retornos diarios\n",
    "log_ret=np.log(adj_close_df/adj_close_df.shift(1))\n",
    "log_ret=log_ret.dropna()\n",
    "print(log_ret)"
   ]
  },
  {
   "cell_type": "code",
   "execution_count": 409,
   "metadata": {},
   "outputs": [],
   "source": [
    "#calcular la rentabilidad\n",
    "def expected_return(weights, log_ret):\n",
    "    return np.sum(weights * log_ret.mean()) "
   ]
  },
  {
   "cell_type": "code",
   "execution_count": 410,
   "metadata": {},
   "outputs": [],
   "source": [
    "#\n",
    "def standard_deviation(weights, cov_matrix):\n",
    "    variance = weights.T @ cov_matrix @ weights\n",
    "    return np.sqrt(variance)"
   ]
  },
  {
   "cell_type": "code",
   "execution_count": 411,
   "metadata": {},
   "outputs": [
    {
     "name": "stdout",
     "output_type": "stream",
     "text": [
      "              SPY           BND       GDL           QQQ           VTI\n",
      "SPY  1.169240e-04 -3.622275e-08  0.000039  1.294780e-04  1.193734e-04\n",
      "BND -3.622275e-08  9.229315e-06  0.000003  8.287891e-07  1.460621e-07\n",
      "GDL  3.867193e-05  3.281079e-06  0.000060  3.899737e-05  4.062423e-05\n",
      "QQQ  1.294780e-04  8.287891e-07  0.000039  1.663797e-04  1.322579e-04\n",
      "VTI  1.193734e-04  1.460621e-07  0.000041  1.322579e-04  1.228556e-04\n"
     ]
    }
   ],
   "source": [
    "#crear la covarianza\n",
    "cov_matrix=log_ret.cov()\n",
    "print(cov_matrix)"
   ]
  },
  {
   "cell_type": "code",
   "execution_count": 412,
   "metadata": {},
   "outputs": [],
   "source": [
    "#calculra la rentabilidad esperada y la desviacion estandar\n",
    "portfolio_values=1000000\n",
    "weights=np.array([1/len(tickers)]*len(tickers))\n",
    "portfolio_expected_return=expected_return(weights, log_ret)\n",
    "portfolio_std_dev=standard_deviation(weights, cov_matrix)"
   ]
  },
  {
   "cell_type": "code",
   "execution_count": 413,
   "metadata": {},
   "outputs": [],
   "source": [
    "#definicion del proceso del metodo de montecarlo\n",
    "\n",
    "def random_z_score():\n",
    "    return np.random.normal(0,1)"
   ]
  },
  {
   "cell_type": "code",
   "execution_count": 414,
   "metadata": {},
   "outputs": [],
   "source": [
    "#crear el scaner de perdidas\n",
    "\n",
    "days= 20\n",
    "def scenario_gain_loss(portfolio_values,portfolio_std_dev,z_score):\n",
    "    return portfolio_values*portfolio_expected_return*days + portfolio_values*portfolio_std_dev*np.sqrt(days)*z_score"
   ]
  },
  {
   "cell_type": "code",
   "execution_count": 415,
   "metadata": {},
   "outputs": [],
   "source": [
    "#simulacion\n",
    "simulations = 10000 \n",
    "scenarioReturn=[]\n",
    "\n",
    "for i in range(simulations):\n",
    "    z_score=random_z_score()\n",
    "    scenarioReturn.append(scenario_gain_loss(portfolio_values,portfolio_std_dev,z_score))"
   ]
  },
  {
   "cell_type": "code",
   "execution_count": 416,
   "metadata": {},
   "outputs": [
    {
     "name": "stdout",
     "output_type": "stream",
     "text": [
      "48375.30312978413\n"
     ]
    }
   ],
   "source": [
    "#calculo de riesgo\n",
    "confidence_interval=0.95\n",
    "VaR= -np.percentile(scenarioReturn, 100*(1-confidence_interval))\n",
    "print(VaR)"
   ]
  },
  {
   "cell_type": "code",
   "execution_count": 417,
   "metadata": {},
   "outputs": [
    {
     "data": {
      "text/plain": [
       "<matplotlib.legend.Legend at 0x21d83c96f90>"
      ]
     },
     "execution_count": 417,
     "metadata": {},
     "output_type": "execute_result"
    },
    {
     "data": {
      "image/png": "[encoded data removed]",
      "text/plain": [
       "<Figure size 640x480 with 1 Axes>"
      ]
     },
     "metadata": {},
     "output_type": "display_data"
    }
   ],
   "source": [
    "#plt de distribucion\n",
    "plt.hist(scenarioReturn, bins=50, density=True)\n",
    "plt.xlabel('Escenario de ganancias y perdias $')\n",
    "plt.ylabel('Frecuencia')\n",
    "plt.title(f'Distribucion de escenarios de ganancias y perdidas sobre {days} dias') \n",
    "plt.axvline(-VaR, color='r', linestyle='dashed', linewidth=2,label=f'VaR {confidence_interval:.0%} nivel de confianza ')\n",
    "plt.legend()          "
   ]
  }
 ],
 "metadata": {
  "kernelspec": {
   "display_name": "Python 3",
   "language": "python",
   "name": "python3"
  },
  "language_info": {
   "codemirror_mode": {
    "name": "ipython",
    "version": 3
   },
   "file_extension": ".py",
   "mimetype": "text/x-python",
   "name": "python",
   "nbconvert_exporter": "python",
   "pygments_lexer": "ipython3",
   "version": "3.11.9"
  }
 },
 "nbformat": 4,
 "nbformat_minor": 2
}
